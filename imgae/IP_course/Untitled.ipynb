{
 "cells": [
  {
   "cell_type": "markdown",
   "id": "e88b3423-3246-4d93-9b4e-430b2272d715",
   "metadata": {},
   "source": [
    "print('test')"
   ]
  },
  {
   "cell_type": "markdown",
   "id": "fe4c3796-fb08-4f45-814f-a8ed63fb209f",
   "metadata": {},
   "source": [
    "# This is a heading\n",
    "*point number one\n",
    "*point number two"
   ]
  },
  {
   "cell_type": "code",
   "execution_count": 19,
   "id": "98528d92-6ed4-4634-beb5-29bf980a5a80",
   "metadata": {},
   "outputs": [],
   "source": [
    "import tifffile\n",
    "#matplotlib let's us plot data\n",
    "import matplotlib.pyplot as plt\n",
    "#pandas handles tables\n",
    "import pandas as pd\n",
    "#numpy handles multidimensional data sets\n",
    "import numpy as np\n",
    "#scipy ndimage does image filtering and label measurement\n",
    "import scipy.ndimage as ndi"
   ]
  },
  {
   "cell_type": "code",
   "execution_count": null,
   "id": "07aaa78c-8c2b-4259-8762-99cf476cc78d",
   "metadata": {},
   "outputs": [],
   "source": []
  },
  {
   "cell_type": "code",
   "execution_count": 18,
   "id": "786b27b0-ac36-4584-a82d-4ea26c5a582f",
   "metadata": {},
   "outputs": [
    {
     "ename": "FileNotFoundError",
     "evalue": "[Errno 2] No such file or directory: 'blobs.tif'",
     "output_type": "error",
     "traceback": [
      "\u001b[0;31m---------------------------------------------------------------------------\u001b[0m",
      "\u001b[0;31mFileNotFoundError\u001b[0m                         Traceback (most recent call last)",
      "Cell \u001b[0;32mIn[18], line 1\u001b[0m\n\u001b[0;32m----> 1\u001b[0m \u001b[43mImage\u001b[49m\u001b[38;5;241;43m.\u001b[39;49m\u001b[43mopen\u001b[49m\u001b[43m(\u001b[49m\u001b[38;5;124;43m'\u001b[39;49m\u001b[38;5;124;43mblobs.tif\u001b[39;49m\u001b[38;5;124;43m'\u001b[39;49m\u001b[43m)\u001b[49m\n",
      "File \u001b[0;32m~/miniconda3/envs/impenv/lib/python3.8/site-packages/PIL/Image.py:3218\u001b[0m, in \u001b[0;36mopen\u001b[0;34m(fp, mode, formats)\u001b[0m\n\u001b[1;32m   3215\u001b[0m     filename \u001b[38;5;241m=\u001b[39m fp\n\u001b[1;32m   3217\u001b[0m \u001b[38;5;28;01mif\u001b[39;00m filename:\n\u001b[0;32m-> 3218\u001b[0m     fp \u001b[38;5;241m=\u001b[39m \u001b[43mbuiltins\u001b[49m\u001b[38;5;241;43m.\u001b[39;49m\u001b[43mopen\u001b[49m\u001b[43m(\u001b[49m\u001b[43mfilename\u001b[49m\u001b[43m,\u001b[49m\u001b[43m \u001b[49m\u001b[38;5;124;43m\"\u001b[39;49m\u001b[38;5;124;43mrb\u001b[39;49m\u001b[38;5;124;43m\"\u001b[39;49m\u001b[43m)\u001b[49m\n\u001b[1;32m   3219\u001b[0m     exclusive_fp \u001b[38;5;241m=\u001b[39m \u001b[38;5;28;01mTrue\u001b[39;00m\n\u001b[1;32m   3221\u001b[0m \u001b[38;5;28;01mtry\u001b[39;00m:\n",
      "\u001b[0;31mFileNotFoundError\u001b[0m: [Errno 2] No such file or directory: 'blobs.tif'"
     ]
    }
   ],
   "source": [
    "Image.open('blobs.tif')"
   ]
  },
  {
   "cell_type": "code",
   "execution_count": null,
   "id": "01832d4e-6624-462d-a52b-b4cc3381f4b6",
   "metadata": {},
   "outputs": [],
   "source": []
  },
  {
   "cell_type": "code",
   "execution_count": null,
   "id": "574a5a6b-b4ad-4e9b-ba32-737239e8687f",
   "metadata": {},
   "outputs": [],
   "source": []
  },
  {
   "cell_type": "code",
   "execution_count": null,
   "id": "54936831-460a-4cbb-94b0-dc8cd98cd59b",
   "metadata": {},
   "outputs": [],
   "source": []
  }
 ],
 "metadata": {
  "kernelspec": {
   "display_name": "impenv",
   "language": "python",
   "name": "impenv"
  },
  "language_info": {
   "codemirror_mode": {
    "name": "ipython",
    "version": 3
   },
   "file_extension": ".py",
   "mimetype": "text/x-python",
   "name": "python",
   "nbconvert_exporter": "python",
   "pygments_lexer": "ipython3",
   "version": "3.8.18"
  }
 },
 "nbformat": 4,
 "nbformat_minor": 5
}
